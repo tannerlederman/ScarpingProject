{
 "cells": [
  {
   "cell_type": "code",
   "execution_count": 1,
   "metadata": {},
   "outputs": [],
   "source": [
    "import urllib.request as urllib\n",
    "import pandas as pd\n",
    "from bs4 import BeautifulSoup"
   ]
  },
  {
   "cell_type": "code",
   "execution_count": 2,
   "metadata": {},
   "outputs": [
    {
     "data": {
      "text/plain": [
       "<bound method Tag.prettify of <!DOCTYPE html>\n",
       "<!-- This site was created in Webflow. http://www.webflow.com --><!-- Last Published: Mon Jun 08 2020 14:46:32 GMT+0000 (Coordinated Universal Time) --><html data-wf-domain=\"www.theflowershopaz.com\" data-wf-page=\"5e17517e6613d56305e56074\" data-wf-site=\"5e17517e6613d55c38e56068\"><head><meta charset=\"utf-8\"/><title>The Flower Shop AZ Deals</title><meta content=\"Hot blazing deals, every single day.\" name=\"description\"/><meta content=\"The Flower Shop AZ Deals\" property=\"og:title\"/><meta content=\"Hot blazing deals, every single day.\" property=\"og:description\"/><meta content=\"The Flower Shop AZ Deals\" property=\"twitter:title\"/><meta content=\"Hot blazing deals, every single day.\" property=\"twitter:description\"/><meta content=\"website\" property=\"og:type\"/><meta content=\"summary_large_image\" name=\"twitter:card\"/><meta content=\"width=device-width, initial-scale=1\" name=\"viewport\"/><meta content=\"Webflow\" name=\"generator\"/><link href=\"https://assets-global.website-files.com/5e17517e6613d55c38e56068/css/theflowershopaz.webflow.fc394a90e.css\" rel=\"stylesheet\" type=\"text/css\"/><script src=\"https://ajax.googleapis.com/ajax/libs/webfont/1.6.26/webfont.js\" type=\"text/javascript\"></script><script type=\"text/javascript\">WebFont.load({  google: {    families: [\"Montserrat:100,100italic,200,200italic,300,300italic,400,400italic,500,500italic,600,600italic,700,700italic,800,800italic,900,900italic\",\"Inconsolata:400,700\",\"Roboto Slab:100,200,300,regular,500,600,700,800,900\"]  }});</script><!--[if lt IE 9]><script src=\"https://cdnjs.cloudflare.com/ajax/libs/html5shiv/3.7.3/html5shiv.min.js\" type=\"text/javascript\"></script><![endif]--><script type=\"text/javascript\">!function(o,c){var n=c.documentElement,t=\" w-mod-\";n.className+=t+\"js\",(\"ontouchstart\"in o||o.DocumentTouch&&c instanceof DocumentTouch)&&(n.className+=t+\"touch\")}(window,document);</script><link href=\"https://assets-global.website-files.com/5e17517e6613d55c38e56068/5e4709f19415a697cf8a7059_tps.png\" rel=\"shortcut icon\" type=\"image/x-icon\"/><link href=\"https://assets-global.website-files.com/5e17517e6613d55c38e56068/5e4303acab0587621834f273_TFSAZ_logo_Black%20copy.jpg\" rel=\"apple-touch-icon\"/></head><body><div class=\"covid-19-bar\"><a class=\"covid-19\" href=\"/events\"><strong class=\"covid-19\">Coronavirus Update Protecting Patients and Staff against COVID-19<br/> </strong><strong class=\"covid-19-bold-underline\">Click here for latest Updates</strong></a></div><div class=\"navbar w-nav\" data-animation=\"over-right\" data-collapse=\"all\" data-duration=\"400\" role=\"banner\"><div class=\"nav-div\"><a class=\"tfs-logo w-nav-brand\" href=\"/\"></a><nav class=\"nav-menu-wrap w-nav-menu\" role=\"navigation\"><a class=\"nav-home w-nav-link\" href=\"/\">Home</a><a class=\"nav-c w-nav-link\" href=\"/cannabis-library\">Cannabis library</a><a aria-current=\"page\" class=\"nav-deals w-nav-link w--current\" href=\"/dailyspecials\">Deals</a><a class=\"nav-events w-nav-link\" href=\"/events\">Events</a><a class=\"nav-phoenix w-nav-link\" href=\"/phoenix\">Phoenix</a><a class=\"nav-mesa w-nav-link\" href=\"/mesa\">Mesa</a><a class=\"nav-tukee w-nav-link\" href=\"/ahwatukee\">Ahwatukee</a><a class=\"nav-delivery w-nav-link\" href=\"/delivery\">Delivery</a><a class=\"nav-careers w-nav-link\" href=\"/careers\"> Careers</a><a class=\"nav-contact w-nav-link\" href=\"/contact\">Contact Us</a><a class=\"nav-contact w-nav-link\" href=\"/about-us\">ABOUT US</a><a class=\"nav-faq w-nav-link\" href=\"/faq\">FAQ</a></nav><div class=\"menu-button w-nav-button\"><img alt=\"\" class=\"menu-icon\" data-ix=\"menu-icon\" src=\"https://assets-global.website-files.com/5e17517e6613d55c38e56068/5e1e2a54f36b12ef428eb9f3_menu%20icon.svg\"/></div></div></div><div class=\"container-1\"><div class=\"divider_40\"></div></div><div class=\"content\"><div class=\"container-1\"><div class=\"w-row\"><div class=\"w-col w-col-7\"><div class=\"container-1\"><div class=\"container-2\"><div class=\"div-block-12\"><div class=\"text-block w-clearfix\"><strong class=\"c-library-heading\">Today only<br/></strong></div></div><div><div class=\"text-block w-clearfix\"><strong class=\"deals-sub-heading-numbers\">6/8/20</strong></div></div><div class=\"deals-deals-div-block w-clearfix\"><div class=\"div-block-9\"></div><p class=\"location-body-text_black_uppercase\"><strong>Medicated Monday<br/></strong>20% off Edibles (excludes capsules)<br/></p></div><div class=\"deals-deals-div-block w-clearfix\"><div class=\"div-block-9\"></div><p class=\"location-body-text_black_uppercase\"><strong>buy one get one free<br/></strong>HAZE &amp; MAIN ALL EDIBLES<br/></p></div><div class=\"deals-deals-div-block w-clearfix\"><div class=\"div-block-9\"></div><p class=\"location-body-text_black_uppercase\"><strong>25% OFF<br/></strong>LOVE CARISSA LOLIPOPS (AHWATUKEE ONLY)<br/></p></div><div class=\"deals-deals-div-block w-clearfix\"><div class=\"div-block-9\"></div><p class=\"location-body-text_black_uppercase\"><strong>20% off<br/></strong>LIVE CONCENTRATES *EX: LIVE SAUCE &amp; LIVE BUDDER*<br/></p></div><div class=\"deals-deals-div-block w-clearfix\"><div class=\"div-block-9\"></div><p class=\"location-body-text_black_uppercase\"><strong>25% OFF<br/></strong>PURE FIRECRACKER CHEW<br/></p></div></div></div></div><div class=\"w-col w-col-5\"><img alt=\"\" class=\"deals-image-60\" sizes=\"(max-width: 479px) 96vw, (max-width: 767px) 97vw, 40vw\" src=\"https://assets-global.website-files.com/5e17517e6613d55c38e56068/5e29dc3f09dcdd1792a30665_homepage_deals_bg.png\" srcset=\"https://assets-global.website-files.com/5e17517e6613d55c38e56068/5e29dc3f09dcdd1792a30665_homepage_deals_bg-p-500.png 500w, https://assets-global.website-files.com/5e17517e6613d55c38e56068/5e29dc3f09dcdd1792a30665_homepage_deals_bg-p-800.png 800w, https://assets-global.website-files.com/5e17517e6613d55c38e56068/5e29dc3f09dcdd1792a30665_homepage_deals_bg.png 900w\"/></div></div><div class=\"container-1\"><div class=\"empty-space-90\"></div><div class=\"divider_40\"></div></div><div class=\"container-1\"></div><div class=\"w-row\"><div class=\"w-col w-col-7\"><div class=\"text-block w-clearfix\"><strong class=\"c-library-heading\">This month only<br/></strong></div><div class=\"container-1\"></div></div><div class=\"w-col w-col-5\"></div></div><div class=\"w-row\"><div class=\"w-col w-col-7\"><div class=\"container-1\"><div class=\"container-2\"><div class=\"deals-deals-div-block w-clearfix\"><div class=\"div-block-9\"></div><p class=\"location-body-text_black_uppercase\"><strong>timeless STRAIN LAUNCH - CHERRY ICEE</strong><br/></p></div><div class=\"deals-deals-div-block w-clearfix\"><div class=\"div-block-9\"></div><p class=\"location-body-text_black_uppercase\"><strong>TIMELESS BUNDLE deal</strong><br/>‍<br/>AMOUNT   500ML  1000ML<br/>1  FOR   $42    $72<br/>2  FOR   $50    $85<br/>3  FOR   $75    $125<br/>4  FOR   $95    $165<br/>5  FOR   $110   $195<br/><br/>‍<br/><br/>‍<br/></p></div></div></div></div><div class=\"w-col w-col-5\"><img alt=\"\" sizes=\"(max-width: 479px) 92vw, (max-width: 767px) 400px, 40vw\" src=\"https://assets-global.website-files.com/5e17517e6613d55c38e56068/5ed51e59a53c766b3a5bc44e_facecherryicee1.jpg.jpg\" srcset=\"https://assets-global.website-files.com/5e17517e6613d55c38e56068/5ed51e59a53c766b3a5bc44e_facecherryicee1.jpg-p-500.jpeg 500w, https://assets-global.website-files.com/5e17517e6613d55c38e56068/5ed51e59a53c766b3a5bc44e_facecherryicee1.jpg-p-800.jpeg 800w, https://assets-global.website-files.com/5e17517e6613d55c38e56068/5ed51e59a53c766b3a5bc44e_facecherryicee1.jpg.jpg 920w\" width=\"400\"/></div></div></div></div><div class=\"container-1\"><div class=\"empty-space-60\"></div><div class=\"divider_40\"></div></div><div class=\"content\"><div class=\"container-1\"><div class=\"w-row\"><div class=\"w-col w-col-7\"><div class=\"container-1\"><div class=\"container-2\"><div class=\"div-block-12\"><div class=\"text-block w-clearfix\"><strong class=\"c-library-heading\">extra Saving<br/></strong></div></div><div class=\"deals-deals-div-block w-clearfix\"><div class=\"div-block-9\"></div><p class=\"location-body-text_black_uppercase\"><strong>vETERANS 15% OFF</strong></p></div><div class=\"deals-deals-div-block w-clearfix\"><div class=\"div-block-9\"></div><p class=\"location-body-text_black_uppercase\"><strong>sENIORS 15% OFF</strong></p></div><div class=\"deals-deals-div-block w-clearfix\"><div class=\"div-block-9\"></div><p class=\"location-body-text_black_uppercase\"><strong>DA 25% OFF</strong></p></div><div class=\"deals-deals-div-block w-clearfix\"><div class=\"div-block-9\"></div><p class=\"location-body-text_black_uppercase\"><strong>20% OFF tFS BRANDED PRODUCTS<br/></strong>available Monday to friday between open - 11am</p></div><div class=\"deals-deals-tiny-div w-clearfix\"><p class=\"deals-paragraph-tiny_left\">*Daily Discounts cannot be combined with daily specials or other offers<br/></p></div></div></div></div><div class=\"w-col w-col-5\"><img alt=\"\" class=\"deals-image-30\" sizes=\"(max-width: 479px) 96vw, (max-width: 767px) 97vw, 40vw\" src=\"https://assets-global.website-files.com/5e17517e6613d55c38e56068/5e1f3f2f2c0d8f666b71ab2c_photo-1562602876-46e4309c7310.jpeg\" srcset=\"https://assets-global.website-files.com/5e17517e6613d55c38e56068/5e1f3f2f2c0d8f666b71ab2c_photo-1562602876-46e4309c7310-p-800.jpeg 800w, https://assets-global.website-files.com/5e17517e6613d55c38e56068/5e1f3f2f2c0d8f666b71ab2c_photo-1562602876-46e4309c7310.jpeg 1049w\"/></div></div></div></div><div class=\"container-1\"><div class=\"empty-space-60\"></div><div class=\"divider_40\"></div></div><div class=\"content\"><div class=\"container-1\"><div class=\"empty-space-20\"></div></div><div class=\"container-1\"><div class=\"container-2\"><h2 class=\"heading-2\">DAILY DEALS</h2><div class=\"w-layout-grid deals-grid\"><div class=\"monday-icon-copy\" id=\"w-node-f42e224d07f3-05e56074\"></div><div><div><strong class=\"bold-text-3\">Medicated Monday</strong></div><div class=\"paragraph-light_center\">20% Off Edibles</div><p class=\"deals-tiny-description\">(Excludes capsules)</p></div><div></div><p class=\"tuesday-icon-copy\" id=\"w-node-c464de3a12f0-05e56074\"></p><div><div><strong class=\"bold-text-3\">TOP-SHELF TUESDAY</strong></div><div class=\"paragraph-light_center\">B2G1 Free 8th</div></div><div></div><div class=\"wed-icon-copy\" id=\"w-node-9478832cb792-05e56074\"></div><div><div><strong class=\"bold-text-3\">WEDNESDAY PENSDAY</strong></div><div class=\"paragraph-light_center\">20% Off All Cartridges &amp; Accessories</div></div><div></div><p class=\"thursday-icon-copy\" id=\"w-node-5293ddbbb948-05e56074\"></p><div><div><strong class=\"bold-text-3\">THERAPEUTIC THURSDAY</strong></div><div class=\"paragraph-light_center\">20% OFF TINCTURES, CREAMS,SALVES, CAPSULES, BATH SALTS &amp; CBD</div></div><div></div></div><div class=\"w-layout-grid deals-grid\"><div class=\"monday-icon-copy\" id=\"w-node-fc5da1ed105f-05e56074\"></div><div><div><strong class=\"bold-text-3\">FLOWER FRIDAY</strong></div><div class=\"paragraph-light_center\">15% Off All Flower</div></div><div></div><p class=\"tuesday-icon-copy\" id=\"w-node-fc5da1ed1068-05e56074\"></p><div><div><strong class=\"bold-text-3\">Concentrate SaturDay</strong></div><div class=\"paragraph-light_center\">20% Off Concentrates</div><p class=\"deals-tiny-description\">(excludes vape cartridges)</p></div><div></div><div class=\"sunday-icon-copy\" id=\"w-node-fc5da1ed1071-05e56074\"></div><div><div><strong class=\"bold-text-3\">SUNDAY FUNDAY</strong></div><div class=\"paragraph-light_center\">Pick Any One Of This Week's Daily Specials As Sunday Special</div></div><div></div></div></div></div></div><div class=\"container-1\"><div class=\"empty-space-60\"></div><div class=\"divider_40\"></div></div><div class=\"content\"><div class=\"container-1\"><div class=\"w-row\"><div class=\"w-col w-col-7\"><div class=\"container-1\"><div class=\"container-2\"><div class=\"div-block-12 w-clearfix\"><div class=\"c-library-heading\">NEW PATIENT SPECIALS<strong class=\"heading-2\"><br/></strong></div></div><div class=\"deals-deals-div-block w-clearfix\"><div class=\"div-block-9\"></div><p class=\"location-body-text_black_uppercase\"><strong>1ST VISIT<br/></strong>Buy One Get One Free On Either:<br/>- One Store Item<br/>Or<br/>- Up To One Ounce Of Flower<br/></p></div><p class=\"deals-tiny-description-ftp\">(NOT INCLUDING HUXTON OR GLOBE FARMS)</p><div class=\"deals-deals-div-block w-clearfix\"><div class=\"div-block-9\"></div><p class=\"location-body-text_black_uppercase\"><strong>2ND VISIT<br/></strong>Buy One Get One Free:<br/>- One <strong>Baked Bros</strong> Product</p></div><div class=\"deals-deals-div-block w-clearfix\"><div class=\"div-block-9\"></div><p class=\"location-body-text_black_uppercase\"><strong>3RD VISIT<br/></strong>Buy One Get One Free:<br/>- One <strong>Select</strong> Product</p></div><div class=\"deals-deals-div-block w-clearfix\"><div class=\"div-block-9\"></div><p class=\"location-body-text_black_uppercase\"><strong>4TH VISIT<br/></strong>Buy One Get One Free:<br/>- One <strong>High Grade</strong> Concentrate</p></div><div class=\"deals-deals-div-block w-clearfix\"><div class=\"div-block-9\"></div><p class=\"location-body-text_black_uppercase\"><strong>5TH VISIT<br/></strong>One Free <strong>Select</strong> Bottle Of 150mggummies With $20 Purchase</p></div><div class=\"deals-deals-tiny-div\"></div></div></div></div><div class=\"w-col w-col-5\"><img alt=\"\" class=\"deals-image-50\" sizes=\"(max-width: 479px) 96vw, (max-width: 767px) 97vw, 40vw\" src=\"https://assets-global.website-files.com/5e17517e6613d55c38e56068/5e7a757628a6735be1ac49ea_FTP%20Mockup3.jpg\" srcset=\"https://assets-global.website-files.com/5e17517e6613d55c38e56068/5e7a757628a6735be1ac49ea_FTP%20Mockup3-p-500.jpeg 500w, https://assets-global.website-files.com/5e17517e6613d55c38e56068/5e7a757628a6735be1ac49ea_FTP%20Mockup3-p-800.jpeg 800w, https://assets-global.website-files.com/5e17517e6613d55c38e56068/5e7a757628a6735be1ac49ea_FTP%20Mockup3.jpg 1000w\"/></div></div></div></div><div class=\"container-1\"><div class=\"empty-space-120\"></div></div><div class=\"div-block-5\"><div class=\"divider_20\"></div><div class=\"wrap\"><div class=\"w-layout-grid footer\" data-w-id=\"697fbf8b-38d8-27e3-cadf-78460d745144\"><div class=\"footer-starter\" id=\"w-node-c2878811f392-0d745142\"></div><div class=\"footer-grid-column\" id=\"w-node-d3b22ac3929a-0d745142\"><p class=\"paragraph-4-gray\">Delivering the best medicinal<br/>cannabis products.</p><p class=\"copyright\">The Flower Shop AZ Inc. © 2020</p></div><div class=\"footer-section-heading w-inline-block\" id=\"w-node-78460d74514a-0d745142\">pages</div><div class=\"footer-grid-column\" id=\"w-node-78460d74514c-0d745142\"><a class=\"footer-link\" href=\"/\">Home</a><a aria-current=\"page\" class=\"footer-link w--current\" href=\"/dailyspecials\">Deals</a><a class=\"footer-link\" href=\"/events\">Events</a><a class=\"footer-link\" href=\"/phoenix\">Phoenix</a><a class=\"footer-link\" href=\"/mesa\">Mesa</a></div><div class=\"footer-grid-column\" id=\"w-node-78460d745157-0d745142\"><a class=\"footer-link\" href=\"/ahwatukee\">Ahwatukee</a><a class=\"footer-link\" href=\"/delivery\">Delivery</a><a class=\"footer-link\" href=\"/careers\">Careers</a><a class=\"footer-link\" href=\"/contact\">Contact Us</a><a class=\"footer-link\" href=\"/about-us\">About Us</a><a class=\"footer-link\" href=\"/faq\">FAQ</a></div><div class=\"footer-section-heading w-inline-block\" id=\"w-node-78460d745162-0d745142\">pages</div><div class=\"footer-section-heading w-inline-block\" id=\"w-node-78460d745164-0d745142\">follow us</div><div class=\"footer-grid-column\" id=\"w-node-78460d745166-0d745142\"><a class=\"footer-link\" href=\"https://www.facebook.com/theflowershopaz/\" target=\"_blank\">Facebook</a><a class=\"footer-link\" href=\"https://www.instagram.com/theflowershop_az\" target=\"_blank\">Instagram</a><a class=\"footer-link\" href=\"https://www.linkedin.com/company/36103582/admin/\" target=\"_blank\">Linkedin</a><a class=\"footer-link\" href=\"https://twitter.com/theflowershopaz\" target=\"_blank\">Twitter</a></div><div class=\"footer-section-heading w-inline-block\" id=\"w-node-78460d74516f-0d745142\">Contact Us</div><div class=\"footer-grid-column\" id=\"w-node-78460d745171-0d745142\"><p class=\"paragraph-4-gray\">We’re Always Happy to Help</p><a class=\"footer-email-link\" href=\"mailto:info@theflowershopaz.com\">finecannabis@theflowershopaz.com</a></div></div></div></div><script crossorigin=\"anonymous\" integrity=\"sha256-CSXorXvZcTkaix6Yvo6HppcZGetbYMGWSFlBw8HfCJo=\" src=\"https://d3e54v103j8qbb.cloudfront.net/js/jquery-3.4.1.min.220afd743d.js?site=5e17517e6613d55c38e56068\" type=\"text/javascript\"></script><script src=\"https://assets-global.website-files.com/5e17517e6613d55c38e56068/js/webflow.8bc082db5.js\" type=\"text/javascript\"></script><!--[if lte IE 9]><script src=\"//cdnjs.cloudflare.com/ajax/libs/placeholders/3.0.2/placeholders.min.js\"></script><![endif]--></body></html>\n",
       ">"
      ]
     },
     "execution_count": 2,
     "metadata": {},
     "output_type": "execute_result"
    }
   ],
   "source": [
    "html = urllib.urlopen(\"https://www.theflowershopaz.com/dailyspecials\")\n",
    "soup = BeautifulSoup(html.read())\n",
    "soup.prettify"
   ]
  },
  {
   "cell_type": "code",
   "execution_count": null,
   "metadata": {},
   "outputs": [],
   "source": [
    "linksList = {(\"The Flower Shop\", \"https://www.theflowershopaz.com/dailyspecials\"), (\"\", )}"
   ]
  },
  {
   "cell_type": "code",
   "execution_count": 3,
   "metadata": {},
   "outputs": [],
   "source": [
    "permDict = {\"Monday\":[], \"Tuesday\":[], \"Wednesday\":[], \"Thursday\":[], \"Friday\":[], \"Saturday\":[], \"Sunday\":[], \"Veterans\":[], \"Seniors\":[], \"DA\":[], \"Other\":[]}\n",
    "def getPermanentDeals():\n",
    "    container = soup.find_all(\"div\", {\"class\":\"container-2\"})\n",
    "    index = 0\n",
    "    for c in container:\n",
    "        if index == 2:\n",
    "            i = 0\n",
    "            groupDeals = c.find_all(\"strong\")\n",
    "            for con in groupDeals:\n",
    "                gContents = []\n",
    "                gContents += con.get_text()\n",
    "                if i == 1:\n",
    "                    permDict[\"Veterans\"] = con.get_text()\n",
    "                if i == 2:\n",
    "                    permDict[\"Seniors\"] = con.get_text()\n",
    "                if i == 3:\n",
    "                    permDict[\"DA\"] = con.get_text()\n",
    "                if i == 4:\n",
    "                    permDict[\"Other\"] = con.get_text()\n",
    "                i+=1\n",
    "        if index == 3:\n",
    "            weekDeals = c.find_all(\"div\", {\"class\":\"paragraph-light_center\"})\n",
    "            i = 0\n",
    "            for con in weekDeals:\n",
    "                if i == 0:\n",
    "                    permDict[\"Monday\"] = con.get_text()\n",
    "                if i == 1:\n",
    "                    permDict[\"Tuesday\"] = con.get_text()\n",
    "                if i ==2:\n",
    "                    permDict[\"Wednesday\"] = con.get_text()\n",
    "                if i == 3:\n",
    "                    permDict[\"Thursday\"] = con.get_text()\n",
    "                if i == 4:\n",
    "                    permDict[\"Friday\"] = con.get_text()\n",
    "                if i == 5:\n",
    "                    permDict[\"Saturday\"] = con.get_text()\n",
    "                if i == 6:\n",
    "                    permDict[\"Sunday\"] = con.get_text()\n",
    "                i+=1\n",
    "        index += 1"
   ]
  },
  {
   "cell_type": "code",
   "execution_count": 4,
   "metadata": {},
   "outputs": [],
   "source": [
    "monthlyDealsDict = {\"1st Deal\":[], \"2nd Deal\":[], \"3rd Deal\":[], \"4th Deal\":[]}\n",
    "def getMonthlyDeals():\n",
    "    index = 0\n",
    "    container = soup.find_all(\"div\", {\"class\":\"container-2\"})\n",
    "    for c in container:\n",
    "        if index == 1:\n",
    "            mDeals = c.find_all(\"p\", {\"class\":\"location-body-text_black_uppercase\"})\n",
    "            i = 0\n",
    "            for m in mDeals:\n",
    "                if i == 0:\n",
    "                    try:\n",
    "                        monthlyDealsDict[\"1st Deal\"] = m.get_text()\n",
    "                    except:\n",
    "                        monthlyDealsDict[\"1st Deal\"] = \"\"\n",
    "                if i == 1:\n",
    "                    monthlyDealsDict[\"2nd Deal\"] = m.get_text()\n",
    "                if i == 2:\n",
    "                    try:\n",
    "                        monthlyDealsDict[\"3rd Deal\"] = m.get_text()\n",
    "                    except:\n",
    "                        monthlyDealsDict[\"3rd Deal\"] = \"\"\n",
    "                if i == 3:\n",
    "                    try:\n",
    "                        monthlyDealsDict[\"4th Deal\"] = m.get_text()\n",
    "                    except:\n",
    "                        monthlyDealsDict[\"4th Deal\"] = m.get_text()\n",
    "                i+=1\n",
    "        index+=1\n",
    "    return"
   ]
  },
  {
   "cell_type": "code",
   "execution_count": 9,
   "metadata": {},
   "outputs": [],
   "source": [
    "newPatientDict = {\"1st Visit\":[], \"2nd Visit\":[], \"3rd Visit\":[], \"4th Visit\":[], \"5th Visit\":[]}\n",
    "\n",
    "def getNewPatient():\n",
    "    index = 0\n",
    "    cont = soup.find_all(\"div\", {\"class\":\"container-2\"})\n",
    "    for co in cont:\n",
    "        if index == 4:\n",
    "            npDeals = co.find_all(\"p\", {\"class\":\"location-body-text_black_uppercase\"})\n",
    "            i = 0\n",
    "            for np in npDeals:\n",
    "                if i == 0:\n",
    "                    newPatientDict[\"1st Visit\"] = np.get_text()\n",
    "                if i == 1:\n",
    "                    newPatientDict[\"2nd Visit\"] = np.get_text()\n",
    "                if i == 2:\n",
    "                    newPatientDict[\"3rd Visit\"] = np.get_text()\n",
    "                if i == 3:\n",
    "                    newPatientDict[\"4th Visit\"] = np.get_text()\n",
    "                if i == 4:\n",
    "                    newPatientDict[\"5th Visit\"] = np.get_text()\n",
    "                i+=1\n",
    "        index +=1"
   ]
  },
  {
   "cell_type": "code",
   "execution_count": 6,
   "metadata": {},
   "outputs": [],
   "source": [
    "dailyDealsDict = {\"Date\":[], \"1st Deal\":[], \"2nd Deal\":[], \"3rd Deal\":[], \"4th Deal\":[]}\n",
    "def newDailyDeals():\n",
    "    index = 0\n",
    "    container = soup.find(\"div\", {\"class\":\"container-2\"})\n",
    "    for c in container:\n",
    "        if index == 0:\n",
    "            i = 0\n",
    "            pDates = c.find_all(\"strong\", {\"class\":\"deals-sub-heading-numbers\"})\n",
    "            for p in pDates:\n",
    "                dailyDealsDict[\"Date\"] = p.get_text()\n",
    "            dDeals = c.find_all(\"p\", {\"class\":\"location-body-text_black_uppercase\"})\n",
    "            for d in dDeals:\n",
    "                i = i + 1\n",
    "                print(i)\n",
    "                print(d)\n",
    "                if i == 1:\n",
    "                    try:\n",
    "                        dailyDealsDict[\"1st Deal\"] = d.get_text()\n",
    "                    except:\n",
    "                        dailyDealsDict[\"1st Deal\"] = \"\"\n",
    "                if i == 2:\n",
    "                    try:\n",
    "                        dailyDealsDict[\"2nd Deal\"] = d.get_text()\n",
    "                    except:\n",
    "                        dailyDealsDict[\"2nd Deal\"] = \"\"\n",
    "                if i == 3:\n",
    "                    try:\n",
    "                        dailyDealsDict[\"3rd Deal\"] = d.get_text()\n",
    "                    except:\n",
    "                        dailyDealsDict[\"3rd Deal\"] = \"\"\n",
    "                if i == 4:\n",
    "                    try:\n",
    "                        dailyDealsDict[\"4th Deal\"] = d.get_text()\n",
    "                    except:\n",
    "                        dailyDealsDict[\"4th Deal\"] = \"\"\n",
    "                "
   ]
  },
  {
   "cell_type": "code",
   "execution_count": 10,
   "metadata": {},
   "outputs": [
    {
     "name": "stdout",
     "output_type": "stream",
     "text": [
      "1\n",
      "<p class=\"location-body-text_black_uppercase\"><strong>Medicated Monday<br/></strong>20% off Edibles (excludes capsules)<br/></p>\n",
      "1\n",
      "<p class=\"location-body-text_black_uppercase\"><strong>buy one get one free<br/></strong>HAZE &amp; MAIN ALL EDIBLES<br/></p>\n",
      "1\n",
      "<p class=\"location-body-text_black_uppercase\"><strong>25% OFF<br/></strong>LOVE CARISSA LOLIPOPS (AHWATUKEE ONLY)<br/></p>\n",
      "1\n",
      "<p class=\"location-body-text_black_uppercase\"><strong>20% off<br/></strong>LIVE CONCENTRATES *EX: LIVE SAUCE &amp; LIVE BUDDER*<br/></p>\n",
      "1\n",
      "<p class=\"location-body-text_black_uppercase\"><strong>25% OFF<br/></strong>PURE FIRECRACKER CHEW<br/></p>\n"
     ]
    }
   ],
   "source": [
    "getPermanentDeals()\n",
    "getNewPatient()\n",
    "getMonthlyDeals()\n",
    "newDailyDeals()"
   ]
  },
  {
   "cell_type": "code",
   "execution_count": 12,
   "metadata": {},
   "outputs": [
    {
     "name": "stdout",
     "output_type": "stream",
     "text": [
      "1ST VISITBuy One Get One Free On Either:- One Store ItemOr- Up To One Ounce Of Flower\n",
      "2ND VISITBuy One Get One Free:- One Baked Bros Product\n",
      "3RD VISITBuy One Get One Free:- One Select Product\n",
      "4TH VISITBuy One Get One Free:- One High Grade Concentrate\n",
      "5TH VISITOne Free Select Bottle Of 150mggummies With $20 Purchase\n"
     ]
    }
   ],
   "source": [
    "c = soup.find_all(\"div\", {\"class\":\"container-2\"})\n",
    "index = 0\n",
    "for l in c:\n",
    "    if index == 4:\n",
    "        contents = l.find_all(\"p\", {\"class\":\"location-body-text_black_uppercase\"})\n",
    "    index += 1   \n",
    "for con in contents:\n",
    "    print(con.get_text())"
   ]
  },
  {
   "cell_type": "code",
   "execution_count": 11,
   "metadata": {},
   "outputs": [
    {
     "data": {
      "text/plain": [
       "{'Date': '6/8/20',\n",
       " '1st Deal': '25% OFFPURE FIRECRACKER CHEW',\n",
       " '2nd Deal': [],\n",
       " '3rd Deal': [],\n",
       " '4th Deal': []}"
      ]
     },
     "execution_count": 11,
     "metadata": {},
     "output_type": "execute_result"
    }
   ],
   "source": [
    "dailyDealsDict"
   ]
  },
  {
   "cell_type": "code",
   "execution_count": 107,
   "metadata": {},
   "outputs": [
    {
     "name": "stdout",
     "output_type": "stream",
     "text": [
      "None\n",
      "None\n",
      "None\n",
      "<h2 class=\"heading-2\">DAILY DEALS</h2>\n",
      "None\n"
     ]
    }
   ],
   "source": [
    "parts = soup.find_all(\"div\", {\"class\":\"container-2\"})\n",
    "for d in parts:\n",
    "    print(d.find(\"h2\"))"
   ]
  },
  {
   "cell_type": "code",
   "execution_count": 13,
   "metadata": {},
   "outputs": [
    {
     "name": "stdout",
     "output_type": "stream",
     "text": [
      "1\n",
      "Medicated Monday20% off Edibles (excludes capsules)\n",
      "2\n",
      "buy one get one freeHAZE & MAIN ALL EDIBLES\n",
      "3\n",
      "25% OFFLOVE CARISSA LOLIPOPS (AHWATUKEE ONLY)\n",
      "4\n",
      "20% offLIVE CONCENTRATES *EX: LIVE SAUCE & LIVE BUDDER*\n",
      "5\n",
      "25% OFFPURE FIRECRACKER CHEW\n",
      "1\n",
      "timeless STRAIN LAUNCH - CHERRY ICEE\n",
      "2\n",
      "TIMELESS BUNDLE deal‍AMOUNT   500ML  1000ML1  FOR   $42    $722  FOR   $50    $853  FOR   $75    $1254  FOR   $95    $1655  FOR   $110   $195‍‍\n",
      "1\n",
      "vETERANS 15% OFF\n",
      "2\n",
      "sENIORS 15% OFF\n",
      "3\n",
      "DA 25% OFF\n",
      "4\n",
      "20% OFF tFS BRANDED PRODUCTSavailable Monday to friday between open - 11am\n",
      "1\n",
      "1ST VISITBuy One Get One Free On Either:- One Store ItemOr- Up To One Ounce Of Flower\n",
      "2\n",
      "2ND VISITBuy One Get One Free:- One Baked Bros Product\n",
      "3\n",
      "3RD VISITBuy One Get One Free:- One Select Product\n",
      "4\n",
      "4TH VISITBuy One Get One Free:- One High Grade Concentrate\n",
      "5\n",
      "5TH VISITOne Free Select Bottle Of 150mggummies With $20 Purchase\n"
     ]
    }
   ],
   "source": [
    "index = 0\n",
    "container = soup.find_all(\"div\", {\"class\":\"container-2\"})\n",
    "for c in container:\n",
    "    if index == 0:\n",
    "        dDeals = c.find_all(\"p\", {\"class\":\"location-body-text_black_uppercase\"})\n",
    "        i = 0\n",
    "        for d in dDeals:\n",
    "            i += 1\n",
    "            print(i)\n",
    "            print(d.get_text())"
   ]
  },
  {
   "cell_type": "code",
   "execution_count": null,
   "metadata": {},
   "outputs": [],
   "source": []
  }
 ],
 "metadata": {
  "kernelspec": {
   "display_name": "Python 3",
   "language": "python",
   "name": "python3"
  },
  "language_info": {
   "codemirror_mode": {
    "name": "ipython",
    "version": 3
   },
   "file_extension": ".py",
   "mimetype": "text/x-python",
   "name": "python",
   "nbconvert_exporter": "python",
   "pygments_lexer": "ipython3",
   "version": "3.7.3"
  }
 },
 "nbformat": 4,
 "nbformat_minor": 2
}
